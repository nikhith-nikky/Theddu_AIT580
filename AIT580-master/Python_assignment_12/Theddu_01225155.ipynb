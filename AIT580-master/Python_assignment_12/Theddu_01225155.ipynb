{
 "cells": [
  {
   "cell_type": "code",
   "execution_count": 1,
   "metadata": {},
   "outputs": [],
   "source": [
    "#Student Name : Theddu Nikhith\n",
    "#G Number :01225155\n",
    "\n",
    "from bs4 import BeautifulSoup\n",
    "import urllib\n",
    "import csv\n",
    "import requests\n",
    "import pandas as pd\n",
    "import csv\n",
    "import xlrd\n",
    "import matplotlib.pyplot as plt\n",
    "import numpy as np\n",
    "import datetime"
   ]
  },
  {
   "cell_type": "code",
   "execution_count": 5,
   "metadata": {},
   "outputs": [],
   "source": [
    "url = requests.get('https://repo.vse.gmu.edu/ait/AIT580/580books.html')"
   ]
  },
  {
   "cell_type": "code",
   "execution_count": 6,
   "metadata": {},
   "outputs": [],
   "source": [
    "soup = BeautifulSoup(url.content,'html.parser')"
   ]
  },
  {
   "cell_type": "code",
   "execution_count": 7,
   "metadata": {},
   "outputs": [],
   "source": [
    "listitems = soup.find_all('li')"
   ]
  },
  {
   "cell_type": "code",
   "execution_count": 8,
   "metadata": {},
   "outputs": [
    {
     "name": "stdout",
     "output_type": "stream",
     "text": [
      "Title\n",
      ",Author(S)\n",
      ",Publisher\n",
      ",PubDate\n",
      ",\n",
      "Title\n",
      ",Author(S)\n",
      ",Publisher\n",
      ",PubDate\n",
      "\n",
      "Learning Python,Mark Lutz,O'Reilly Media,June 2013,\n",
      "Learning Python,Mark Lutz,O'Reilly Media,June 2013\n",
      "Web Scraping with Python,Ryan Mitchell,O'Reilly Media,November 2017,\n",
      "Web Scraping with Python,Ryan Mitchell,O'Reilly Media,November 2017\n",
      "Python Coding for Kids,Don Wilcher,Maker Media, Inc,September 2017,\n",
      "Python Coding for Kids,Don Wilcher,Maker Media, Inc,September 2017\n",
      "Python Machine Learning By Example,Yuxi Liu,Packt Publishing,May 2017,\n",
      "Python Machine Learning By Example,Yuxi Liu,Packt Publishing,May 2017\n",
      "Python Data Structures and Algorithms,Benjamin Baka,Packt Publishing,May 2017,\n",
      "Python Data Structures and Algorithms,Benjamin Baka,Packt Publishing,May 2017\n",
      "Python in a Nutshell,Alex Martelli, Anna Ravenscroft,O'Reilly Media,April 2017,\n",
      "Python in a Nutshell,Alex Martelli, Anna Ravenscroft,O'Reilly Media,April 2017\n",
      "Invent Your Own Computer Games with Python,Al Sweigart,No Starch Press,December 2016,\n",
      "Invent Your Own Computer Games with Python,Al Sweigart,No Starch Press,December 2016\n",
      "Head First Python,Paul Barry,O'Reilly Media,November 2016,\n",
      "Head First Python,Paul Barry,O'Reilly Media,November 2016\n",
      "Integrating Python with Leading Computer Forensics Platforms,Chet Hosmer,Elsevier / Syngress,September 2016,\n",
      "Integrating Python with Leading Computer Forensics Platforms,Chet Hosmer,Elsevier / Syngress,September 2016\n",
      "Data Science Essentials in Python,Dmitry Zinoviev,Pragmatic Bookshelf,August 2016,\n",
      "Data Science Essentials in Python,Dmitry Zinoviev,Pragmatic Bookshelf,August 2016\n"
     ]
    }
   ],
   "source": [
    "filename = \"python_books.csv\"\n",
    "f = open(filename, \"w\")\n",
    "headers = \"Title, Author(s), Publisher, Release Date\\n\"\n",
    "f.write(headers)\n",
    "\n",
    "for entry in listitems:\n",
    "    \n",
    "    title = entry.a.booktitle.text\n",
    "    title = title.replace(\",\", \"|\")\n",
    "    author = entry.author.text\n",
    "    author = author.replace(\",\", \"|\")\n",
    "    publisher = entry.publisher.text\n",
    "    publisher = publisher.replace(\",\", \"|\")\n",
    "    release = entry.release.text\n",
    "    release = release.replace(\",\", \"|\")\n",
    "   \n",
    "    f.write(title + \",\" + author + \",\" + publisher + \",\" + release + \"\\n\")\n",
    "\n",
    "f.close()\n",
    "\n",
    "for record in soup.findAll('tr'):\n",
    "    tbltxt = \"\"\n",
    "    for data in record.findAll('td'):\n",
    "        tbltxt = tbltxt + data.text + \",\"\n",
    "    print(tbltxt)\n",
    "    print(tbltxt[0:-1])\n"
   ]
  },
  {
   "cell_type": "code",
   "execution_count": 9,
   "metadata": {},
   "outputs": [
    {
     "name": "stdout",
     "output_type": "stream",
     "text": [
      "O'Reilly Media         4\n",
      "Packt Publishing       2\n",
      "Maker Media| Inc       1\n",
      "Elsevier / Syngress    1\n",
      "Pragmatic Bookshelf    1\n",
      "No Starch Press        1\n",
      "Name:  Publisher, dtype: int64\n"
     ]
    }
   ],
   "source": [
    "df=pd.read_csv('C:/Users/Owner/Downloads/AIT580-master/Python_assignment_12/python_books.csv')\n",
    "data=df[' Publisher'].value_counts()\n",
    "print(data)"
   ]
  },
  {
   "cell_type": "code",
   "execution_count": 10,
   "metadata": {},
   "outputs": [
    {
     "data": {
      "image/png": "[encoded data removed]",
      "text/plain": [
       "<Figure size 432x288 with 1 Axes>"
      ]
     },
     "metadata": {
      "needs_background": "light"
     },
     "output_type": "display_data"
    }
   ],
   "source": [
    "data.plot(kind='bar')\n",
    "plt.xlabel('PUBLISHER')\n",
    "plt.ylabel('FREQUENCY')\n",
    "plt.title('visulization for publisher')\n",
    "plt.show()"
   ]
  },
  {
   "cell_type": "code",
   "execution_count": 21,
   "metadata": {},
   "outputs": [
    {
     "name": "stdout",
     "output_type": "stream",
     "text": [
      "0         June 2013\n",
      "1     November 2017\n",
      "2    September 2017\n",
      "3          May 2017\n",
      "4          May 2017\n",
      "5        April 2017\n",
      "6     December 2016\n",
      "7     November 2016\n",
      "8    September 2016\n",
      "9       August 2016\n",
      "Name:  Release Date, dtype: object\n"
     ]
    }
   ],
   "source": [
    "print(df[' Release Date'])"
   ]
  },
  {
   "cell_type": "code",
   "execution_count": 25,
   "metadata": {},
   "outputs": [],
   "source": [
    "df['year'] = pd.DatetimeIndex(df[' Release Date']).year"
   ]
  },
  {
   "cell_type": "code",
   "execution_count": 28,
   "metadata": {},
   "outputs": [
    {
     "name": "stdout",
     "output_type": "stream",
     "text": [
      "2017    5\n",
      "2016    4\n",
      "2013    1\n",
      "Name: year, dtype: int64\n"
     ]
    }
   ],
   "source": [
    "data1=df['year'].value_counts()\n",
    "print(data1)"
   ]
  },
  {
   "cell_type": "code",
   "execution_count": 29,
   "metadata": {},
   "outputs": [
    {
     "data": {
      "image/png": "[encoded data removed]",
      "text/plain": [
       "<Figure size 432x288 with 1 Axes>"
      ]
     },
     "metadata": {
      "needs_background": "light"
     },
     "output_type": "display_data"
    }
   ],
   "source": [
    "data.plot(kind='bar')\n",
    "plt.xlabel('YEAR')\n",
    "plt.ylabel('FREQUENCY')\n",
    "plt.title('visulization for year')\n",
    "plt.show()"
   ]
  }
 ],
 "metadata": {
  "kernelspec": {
   "display_name": "Python 3",
   "language": "python",
   "name": "python3"
  },
  "language_info": {
   "codemirror_mode": {
    "name": "ipython",
    "version": 3
   },
   "file_extension": ".py",
   "mimetype": "text/x-python",
   "name": "python",
   "nbconvert_exporter": "python",
   "pygments_lexer": "ipython3",
   "version": "3.7.4"
  }
 },
 "nbformat": 4,
 "nbformat_minor": 2
}
